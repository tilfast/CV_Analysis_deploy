{
 "cells": [
  {
   "cell_type": "markdown",
   "id": "e363c371",
   "metadata": {},
   "source": [
    "## OpenAI utility\n",
    "\n",
    "This is a test App for deployment on streamlit server\n",
    "\n",
    "It just analyzes a CV through OpenAI\n",
    "\n",
    "This is the **connection to Open AI**\n",
    "\n",
    "creation date: 25/08/2025"
   ]
  },
  {
   "cell_type": "code",
   "execution_count": null,
   "id": "2a2c1910",
   "metadata": {},
   "outputs": [],
   "source": [
    "# openai_utils.py\n",
    "from openai import OpenAI\n",
    "import os\n",
    "\n",
    "try:\n",
    "    import streamlit as st\n",
    "except Exception:\n",
    "    st = None\n",
    "\n",
    "def _get_api_key() -> str:\n",
    "    key = os.getenv(\"OPENAI_API_KEY\")\n",
    "    if key:\n",
    "        return key\n",
    "    if st is not None:\n",
    "        try:\n",
    "            return st.secrets[\"openai\"][\"api_key\"]   # accessed only when called\n",
    "        except Exception:\n",
    "            pass\n",
    "    raise RuntimeError(\"OpenAI API key not found.\")\n",
    "\n",
    "\n",
    "def _get_client() -> OpenAI:\n",
    "    return OpenAI(api_key=_get_api_key())\n",
    "\n",
    "def analyze_cv(text: str) -> str:\n",
    "    client = _get_client()  # create client at call time, not import time\n",
    "\n",
    "    prompt = f\"\"\"\n",
    "You are a professional recruiter. Reply ONLY with valid JSON with keys:\n",
    "\"Full Name\",\"Summary\",\"Top 3 Skills\",\"Last 3 Positions\",\"Education Summary\",\"Fit Score\".\n",
    "CV:\n",
    "{text}\n",
    "\"\"\"\n",
    "    resp = client.chat.completions.create(\n",
    "        model=\"gpt-3.5-turbo\",\n",
    "        temperature=0.2,\n",
    "        messages=[{\"role\": \"user\", \"content\": prompt}],\n",
    "    )\n",
    "\n",
    "    return resp.choices[0].message.content\n"
   ]
  },
  {
   "cell_type": "code",
   "execution_count": null,
   "id": "1c2fa6e2",
   "metadata": {},
   "outputs": [],
   "source": []
  }
 ],
 "metadata": {
  "kernelspec": {
   "display_name": "Python 3 (ipykernel)",
   "language": "python",
   "name": "python3"
  },
  "language_info": {
   "codemirror_mode": {
    "name": "ipython",
    "version": 3
   },
   "file_extension": ".py",
   "mimetype": "text/x-python",
   "name": "python",
   "nbconvert_exporter": "python",
   "pygments_lexer": "ipython3",
   "version": "3.11.5"
  }
 },
 "nbformat": 4,
 "nbformat_minor": 5
}
