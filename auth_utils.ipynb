{
 "cells": [
  {
   "cell_type": "markdown",
   "id": "bc469f53",
   "metadata": {},
   "source": [
    "# Authentification\n",
    "\n",
    "Usage gate"
   ]
  },
  {
   "cell_type": "code",
   "execution_count": 2,
   "id": "c717d6c3",
   "metadata": {},
   "outputs": [],
   "source": [
    "# auth_utils.py\n",
    "import streamlit as st\n",
    "\n",
    "def check_password(secret=\"your_secret\"):\n",
    "    def password_entered():\n",
    "        if st.session_state[\"password\"] == secret:\n",
    "            st.session_state[\"authenticated\"] = True\n",
    "        else:\n",
    "            st.session_state[\"authenticated\"] = False\n",
    "\n",
    "    if \"authenticated\" not in st.session_state:\n",
    "        st.text_input(\"Enter password\", type=\"password\", on_change=password_entered, key=\"password\")\n",
    "        st.stop()\n",
    "\n",
    "    if not st.session_state[\"authenticated\"]:\n",
    "        st.text_input(\"Enter password\", type=\"password\", on_change=password_entered, key=\"password\")\n",
    "        st.error(\"Incorrect password\")\n",
    "        st.stop()\n",
    "\n"
   ]
  },
  {
   "cell_type": "code",
   "execution_count": null,
   "id": "957fa5e2",
   "metadata": {},
   "outputs": [],
   "source": []
  }
 ],
 "metadata": {
  "kernelspec": {
   "display_name": "Python 3 (ipykernel)",
   "language": "python",
   "name": "python3"
  },
  "language_info": {
   "codemirror_mode": {
    "name": "ipython",
    "version": 3
   },
   "file_extension": ".py",
   "mimetype": "text/x-python",
   "name": "python",
   "nbconvert_exporter": "python",
   "pygments_lexer": "ipython3",
   "version": "3.11.5"
  }
 },
 "nbformat": 4,
 "nbformat_minor": 5
}
