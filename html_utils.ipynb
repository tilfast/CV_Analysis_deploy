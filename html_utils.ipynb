{
 "cells": [
  {
   "cell_type": "markdown",
   "id": "094173bc",
   "metadata": {},
   "source": [
    "## HTML utils\n",
    "\n",
    "This is a test App for deployment on streamlit server\n",
    "\n",
    "It just analyzes a CV through OpenAI\n",
    "\n",
    "Here is the utility to build a **HTML Report**\n",
    "\n",
    "creation date: 25/08/2025"
   ]
  },
  {
   "cell_type": "code",
   "execution_count": 1,
   "id": "04b95e73",
   "metadata": {},
   "outputs": [],
   "source": [
    "import json\n",
    "from pathlib import Path\n",
    "\n",
    "def json_to_html(json_string: str) -> str:\n",
    "    try:\n",
    "        data = json.loads(json_string)\n",
    "    except json.JSONDecodeError:\n",
    "        return \"<p>Invalid JSON format returned by API.</p>\"\n",
    "\n",
    "    html = f\"\"\"\n",
    "    <h2>Candidate Report</h2>\n",
    "    <p><strong>Name:</strong> {data.get('Full Name')}</p>\n",
    "    <p><strong>Summary:</strong> {data.get('Summary')}</p>\n",
    "    <p><strong>Top Skills:</strong> {', '.join(data.get('Top 3 Skills', []))}</p>\n",
    "    <h3>Recent Positions</h3>\n",
    "    <ul>\n",
    "    {''.join(f'<li>{pos}</li>' for pos in data.get('Last 3 Positions', []))}\n",
    "    </ul>\n",
    "    <p><strong>Education:</strong> {data.get('Education Summary')}</p>\n",
    "    <p><strong>Fit Score:</strong> <span style=\"font-size: 24px;\">{data.get('Fit Score')}</span></p>\n",
    "    \"\"\"\n",
    "    return html\n"
   ]
  },
  {
   "cell_type": "code",
   "execution_count": null,
   "id": "bee14146",
   "metadata": {},
   "outputs": [],
   "source": []
  }
 ],
 "metadata": {
  "kernelspec": {
   "display_name": "Python 3 (ipykernel)",
   "language": "python",
   "name": "python3"
  },
  "language_info": {
   "codemirror_mode": {
    "name": "ipython",
    "version": 3
   },
   "file_extension": ".py",
   "mimetype": "text/x-python",
   "name": "python",
   "nbconvert_exporter": "python",
   "pygments_lexer": "ipython3",
   "version": "3.11.5"
  }
 },
 "nbformat": 4,
 "nbformat_minor": 5
}
